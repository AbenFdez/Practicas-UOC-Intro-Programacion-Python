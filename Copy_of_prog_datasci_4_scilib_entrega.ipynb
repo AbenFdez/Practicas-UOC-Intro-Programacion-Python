{
  "cells": [
    {
      "cell_type": "markdown",
      "metadata": {
        "id": "I56l2US1xX2L"
      },
      "source": [
        "<div style=\"width: 100%; clear: both;\">\n",
        "    <div style=\"float: left; width: 50%;\">\n",
        "       <img src=\"http://www.uoc.edu/portal/_resources/common/imatges/marca_UOC/UOC_Masterbrand.jpg\", align=\"left\">\n",
        "    </div>\n",
        "</div>\n",
        "\n",
        "<div style=\"float: right; width: 50%;\">\n",
        "    <p style=\"margin: 0; padding-top: 22px; text-align:right;\">22.401 · Fundamentos de Programación</p>\n",
        "    <p style=\"margin: 0; text-align:right;\">Grado en Ciencia de Datos Aplicada</p>\n",
        "    <p style=\"margin: 0; text-align:right; padding-button: 100px;\">Estudios de Informática, Multimedia y Telecomunicación.</p>\n",
        "</div>\n",
        "\n",
        "</div>\n",
        "<div style=\"width: 100%; clear: both;\">\n",
        "<div style=\"width:100%;\">&nbsp;</div>"
      ]
    },
    {
      "cell_type": "markdown",
      "metadata": {
        "id": "WDdiLKvf7M6N"
      },
      "source": [
        "Fundamentos de Programación\n",
        "============================\n",
        "\n",
        "PAC 4 - Enunciado\n",
        "-----------------------------------------------------\n",
        "En este Notebook encontraréis el conjunto de actividades evaluables como PEC de la asignatura.\n",
        "\n",
        "Veréis que cada una de ellas tiene asociada una puntuación, que indica el peso que tiene la actividad sobre la nota final de la PEC. Adicionalmente, hay un ejercicio opcional, que no tiene puntuación dentro de la PEC, pero que se valora al final del semestre de cara a conceder las matrículas de honor y redondear las notas finales. Podréis sacar la máxima nota de la PEC sin necesidad de hacer este ejercicio. El objetivo de este ejercicio es que sirva como pequeño reto para los estudiantes que quieran profundizar en el contenido de la asignatura.\n",
        "\n",
        "Veréis que todas las actividades de la PEC tienen una etiqueta, que indica los recursos necesarios para llevarla a cabo. Hay tres posibles etiquetas:\n",
        "- $\\color{green}{\\text{NM}}$ Sólo materiales: las herramientas necesarias para realizar la actividad se pueden encontrar en los materiales de la asignatura.\n",
        "- $\\color{orange}{\\text{EG}}$ Consulta externa guiada: la actividad puede requerir hacer uso de herramientas que no se encuentran en los materiales de la asignatura, pero el enunciado contiene indicaciones de dónde o cómo encontrar la información adicional necesaria para resolver la actividad.\n",
        "- $\\color{red}{\\text{EI}}$ Consulta externa independiente: la actividad puede requerir hacer uso de herramientas que no se encuentran en los materiales de la asignatura, y el enunciado puede no incluir la descripción de dónde o cómo encontrar esta información adicional. Será necesario que el estudiante busque esta información utilizando los recursos que se han explicado en la asignatura.\n",
        "\n",
        "\n",
        "Es importante notar que estas etiquetas no indican el nivel de dificultad del ejercicio, sino únicamente la necesidad de consulta de documentación externa para su resolución. Además, recordad que las etiquetas son informativas, pero podréis consultar referencias externas en cualquier momento (aunque no se indique explícitamente) o puede ser que podáis hacer una actividad sin consultar ningún tipo de documentación. Por ejemplo, para resolver una actividad que sólo requiera los materiales de la asignatura, podéis consultar referencias externas si queréis, ya sea tanto para ayudaros en la resolución como para ampliar el conocimiento! En cuanto a la consulta de documentación externa en la resolución de los ejercicios, recordad citar siempre la bibliografía utilizada para resolver cada actividad."
      ]
    },
    {
      "cell_type": "markdown",
      "metadata": {
        "id": "6PcAM3ff_Wo5"
      },
      "source": [
        "## NumPy - Ejercicios"
      ]
    },
    {
      "cell_type": "markdown",
      "metadata": {
        "id": "rEX6AySdxX2R"
      },
      "source": [
        "### Ejercicio 1\n",
        "\n",
        "Genera un array de NumPy 1D de 20 elementos (enteros del 20 al 1) ordenados de manera descendiente. A continuación, pon en negativo todos los elementos pares y muestra el array resultante. **(0.50 puntos)** $\\color{green}{\\text{NM}}$"
      ]
    },
    {
      "cell_type": "code",
      "source": [
        "# Montamos Google Drive por si lo necesitamos en futuros ejercicios."
      ],
      "metadata": {
        "id": "4bSJ3Q1QR0po"
      },
      "execution_count": null,
      "outputs": []
    },
    {
      "cell_type": "code",
      "source": [
        "from google.colab import drive\n",
        "drive.mount('/content/drive')"
      ],
      "metadata": {
        "id": "_uxrHyLKSDoH",
        "colab": {
          "base_uri": "https://localhost:8080/"
        },
        "outputId": "36683971-593c-4a78-958a-91a7c955dda3"
      },
      "execution_count": 3,
      "outputs": [
        {
          "output_type": "stream",
          "name": "stdout",
          "text": [
            "Mounted at /content/drive\n"
          ]
        }
      ]
    },
    {
      "cell_type": "code",
      "source": [
        "# Cambiamos el directorio a la ubicacion deseada en Google Drive"
      ],
      "metadata": {
        "id": "oT0jeR-9SDxW"
      },
      "execution_count": 4,
      "outputs": []
    },
    {
      "cell_type": "code",
      "source": [
        "%cd /content/drive/MyDrive/Colab_Notebooks/prog_datasci_4"
      ],
      "metadata": {
        "colab": {
          "base_uri": "https://localhost:8080/"
        },
        "id": "MKbir_sdUDvo",
        "outputId": "d76814a8-73ad-4119-ae22-a9aa3ea5935d"
      },
      "execution_count": 5,
      "outputs": [
        {
          "output_type": "stream",
          "name": "stdout",
          "text": [
            "/content/drive/MyDrive/Colab_Notebooks/prog_datasci_4\n"
          ]
        }
      ]
    },
    {
      "cell_type": "code",
      "source": [
        "# Importamos la libreria Numpy"
      ],
      "metadata": {
        "id": "e-BDjxu7yBxQ"
      },
      "execution_count": null,
      "outputs": []
    },
    {
      "cell_type": "code",
      "execution_count": null,
      "metadata": {
        "id": "ST8Jz4zrlKCd"
      },
      "outputs": [],
      "source": [
        "import numpy as np"
      ]
    },
    {
      "cell_type": "code",
      "source": [
        "# Generamos un array de numeros enteros del 20 al 1 (orden descendente).\n",
        "#Usamos np.arange para generar un array de enteros desde el 20 al 1 (excluyendo el 0), con un paso de -1 lo que nos garantiza un orden descendente."
      ],
      "metadata": {
        "id": "_awy8CK5yF0S"
      },
      "execution_count": 45,
      "outputs": []
    },
    {
      "cell_type": "code",
      "source": [
        "#La función np.arrange de la libreria Numpy en Python se utilizar para crear arrays con valores espaciados uniformemente dentro de un intervalo especificado.\n",
        "#Es similar a la funcion range en Python, pero nos devuelve un array de Numpy en lugar de una lista\n"
      ],
      "metadata": {
        "id": "v-RiK5J9p_d3"
      },
      "execution_count": null,
      "outputs": []
    },
    {
      "cell_type": "code",
      "source": [
        "array = np.arange(20,0,-1)"
      ],
      "metadata": {
        "id": "mWpv5w40yPBe"
      },
      "execution_count": 49,
      "outputs": []
    },
    {
      "cell_type": "code",
      "source": [
        "# Mostramos el array resultante"
      ],
      "metadata": {
        "id": "X0UbRtFNye3T"
      },
      "execution_count": 50,
      "outputs": []
    },
    {
      "cell_type": "code",
      "source": [
        "print(array)"
      ],
      "metadata": {
        "colab": {
          "base_uri": "https://localhost:8080/"
        },
        "id": "vvzvkvYIyj47",
        "outputId": "2ea4c3c0-49f3-46c7-d77d-0a13c9c75385"
      },
      "execution_count": 51,
      "outputs": [
        {
          "output_type": "stream",
          "name": "stdout",
          "text": [
            "[20 19 18 17 16 15 14 13 12 11 10  9  8  7  6  5  4  3  2  1]\n"
          ]
        }
      ]
    },
    {
      "cell_type": "code",
      "source": [
        "#Ponemos en negativo todos los elementos pares .\n",
        "#Localizamos los elementos pares y los multiplicamos por -1"
      ],
      "metadata": {
        "id": "prn1i_b0ypM_"
      },
      "execution_count": 52,
      "outputs": []
    },
    {
      "cell_type": "code",
      "source": [
        "array[array % 2 == 0]*=-1"
      ],
      "metadata": {
        "id": "DsYq6pgXzXjh"
      },
      "execution_count": 53,
      "outputs": []
    },
    {
      "cell_type": "code",
      "source": [
        "print(array)"
      ],
      "metadata": {
        "colab": {
          "base_uri": "https://localhost:8080/"
        },
        "id": "2tJo9dRosEwt",
        "outputId": "1034bf36-b4fb-4bc9-acf2-edcdca7eb4ce"
      },
      "execution_count": 54,
      "outputs": [
        {
          "output_type": "stream",
          "name": "stdout",
          "text": [
            "[-20  19 -18  17 -16  15 -14  13 -12  11 -10   9  -8   7  -6   5  -4   3\n",
            "  -2   1]\n"
          ]
        }
      ]
    },
    {
      "cell_type": "code",
      "source": [
        "# Podemos plantearnos el problema de una manera alternativa. Usando np.where.\n",
        "array2 = np.arange(20,0,-1)\n",
        "\n",
        "\n"
      ],
      "metadata": {
        "id": "GUINqc1LrUQy"
      },
      "execution_count": 57,
      "outputs": []
    },
    {
      "cell_type": "code",
      "source": [
        "#Usamos np.where para multiplicar por -1 los elementos pares.\n",
        "array2 = np.where(array2%2==0,array2*-1,array2)\n",
        "print(array2)"
      ],
      "metadata": {
        "colab": {
          "base_uri": "https://localhost:8080/"
        },
        "id": "hJK3fveYrmAH",
        "outputId": "e4fae234-df60-4574-a63a-17dba24086b8"
      },
      "execution_count": 58,
      "outputs": [
        {
          "output_type": "stream",
          "name": "stdout",
          "text": [
            "[-20  19 -18  17 -16  15 -14  13 -12  11 -10   9  -8   7  -6   5  -4   3\n",
            "  -2   1]\n"
          ]
        }
      ]
    },
    {
      "cell_type": "code",
      "source": [
        "# El array resultante tiene todos los valores pares en negativo en ambas soluciones."
      ],
      "metadata": {
        "id": "bmesnYBI0SbX"
      },
      "execution_count": null,
      "outputs": []
    },
    {
      "cell_type": "markdown",
      "metadata": {
        "id": "W6Qq2Sf3k-H1"
      },
      "source": [
        "### Ejercicio 2\n",
        "\n",
        "Crea una matriz de 10x10 donde los valores de cada posición `(i,j)` correspondan a `abs(i*j-2)` para todo `i` múltiplo de `2`, `i+j` para todo `i` múltiplo de `5` y `(i+j)^2` para el resto de posiciones. **(1 punto)** $\\color{green}{\\text{NM}}$\n",
        "\n"
      ]
    },
    {
      "cell_type": "code",
      "source": [
        "# Empezamos creando una matriz de 10x10 inicializada con ceros."
      ],
      "metadata": {
        "id": "dgq_lIwmyjA7"
      },
      "execution_count": null,
      "outputs": []
    },
    {
      "cell_type": "code",
      "source": [
        "matriz = np.zeros((10,10))"
      ],
      "metadata": {
        "id": "w6EcRUvAydqg"
      },
      "execution_count": null,
      "outputs": []
    },
    {
      "cell_type": "code",
      "source": [
        "#Las condiciones que tenemos son las siguientes."
      ],
      "metadata": {
        "id": "u18laIGTyN2f"
      },
      "execution_count": null,
      "outputs": []
    },
    {
      "cell_type": "code",
      "source": [
        "#abs(i*j-2) para todo i multiplo de 2"
      ],
      "metadata": {
        "id": "bqEQxuf30-CA"
      },
      "execution_count": null,
      "outputs": []
    },
    {
      "cell_type": "code",
      "source": [
        "# i+j para todo multiplo de 5"
      ],
      "metadata": {
        "id": "gJdUhCtl0-Og"
      },
      "execution_count": null,
      "outputs": []
    },
    {
      "cell_type": "code",
      "source": [
        "# (i+j)^2 para el resto de las posiciones"
      ],
      "metadata": {
        "id": "GClCbVl-1Lfi"
      },
      "execution_count": null,
      "outputs": []
    },
    {
      "cell_type": "code",
      "source": [
        "#Ahora iteramos sobre cada posicion ( i,j) y aplicamos las condiciones específicadas"
      ],
      "metadata": {
        "id": "Avda2SqY1LvK"
      },
      "execution_count": null,
      "outputs": []
    },
    {
      "cell_type": "code",
      "execution_count": null,
      "metadata": {
        "id": "Y3vGmezElKYN"
      },
      "outputs": [],
      "source": [
        "for i in range(10):\n",
        "    for j in range(10):\n",
        "        if i % 2 == 0:\n",
        "            matriz[i, j] = abs(i * j - 2)\n",
        "        elif i % 5 == 0:\n",
        "            matriz[i, j] = i + j\n",
        "        else:\n",
        "            matriz[i, j] = (i + j) ** 2"
      ]
    },
    {
      "cell_type": "code",
      "source": [
        "# mostramos la matriz resultante"
      ],
      "metadata": {
        "id": "dNcOgKVA2y7k"
      },
      "execution_count": null,
      "outputs": []
    },
    {
      "cell_type": "code",
      "source": [
        "print(matriz)"
      ],
      "metadata": {
        "colab": {
          "base_uri": "https://localhost:8080/"
        },
        "id": "bvPuvyEj1rUU",
        "outputId": "3d9c718a-fc33-4f3d-fe4a-0126acee9284"
      },
      "execution_count": null,
      "outputs": [
        {
          "output_type": "stream",
          "name": "stdout",
          "text": [
            "[[  2.   2.   2.   2.   2.   2.   2.   2.   2.   2.]\n",
            " [  1.   4.   9.  16.  25.  36.  49.  64.  81. 100.]\n",
            " [  2.   0.   2.   4.   6.   8.  10.  12.  14.  16.]\n",
            " [  9.  16.  25.  36.  49.  64.  81. 100. 121. 144.]\n",
            " [  2.   2.   6.  10.  14.  18.  22.  26.  30.  34.]\n",
            " [  5.   6.   7.   8.   9.  10.  11.  12.  13.  14.]\n",
            " [  2.   4.  10.  16.  22.  28.  34.  40.  46.  52.]\n",
            " [ 49.  64.  81. 100. 121. 144. 169. 196. 225. 256.]\n",
            " [  2.   6.  14.  22.  30.  38.  46.  54.  62.  70.]\n",
            " [ 81. 100. 121. 144. 169. 196. 225. 256. 289. 324.]]\n"
          ]
        }
      ]
    },
    {
      "cell_type": "code",
      "source": [
        "# Este código lo podriamos escribir de una manera más optima de la siguiente manera."
      ],
      "metadata": {
        "id": "1ZOnHBlNt5NX"
      },
      "execution_count": null,
      "outputs": []
    },
    {
      "cell_type": "code",
      "source": [
        "import numpy as np\n"
      ],
      "metadata": {
        "id": "bTX0g5kruBMF"
      },
      "execution_count": 59,
      "outputs": []
    },
    {
      "cell_type": "code",
      "source": [
        "#Creamos igual una matriz de 10x10.\n",
        "matriz2= np.zeros((10,10))"
      ],
      "metadata": {
        "id": "G1-zDHGQuBPe"
      },
      "execution_count": 60,
      "outputs": []
    },
    {
      "cell_type": "code",
      "source": [
        "#Aplicamos las condiciones indicadas."
      ],
      "metadata": {
        "id": "wDcn0cRtuBST"
      },
      "execution_count": 61,
      "outputs": []
    },
    {
      "cell_type": "code",
      "source": [
        "#Creamos indices para las filas y las columnas.\n",
        "i, j = np.indices(matriz2.shape)"
      ],
      "metadata": {
        "id": "7UFXKTdOuBU7"
      },
      "execution_count": 65,
      "outputs": []
    },
    {
      "cell_type": "code",
      "source": [
        "#Aplicamos las condiciones."
      ],
      "metadata": {
        "id": "TcNkIwPru_bN"
      },
      "execution_count": 68,
      "outputs": []
    },
    {
      "cell_type": "code",
      "source": [
        "cond1 = (i % 2 == 0)\n",
        "cond2 = (i % 5 == 0) & (i % 2 != 0)\n",
        "cond3 = ~(cond1 | cond2)"
      ],
      "metadata": {
        "id": "wzbpH3nfvDwF"
      },
      "execution_count": 69,
      "outputs": []
    },
    {
      "cell_type": "code",
      "source": [
        "#Llenamos la matriz según las condiciones."
      ],
      "metadata": {
        "id": "VclbaE-BuBXx"
      },
      "execution_count": 66,
      "outputs": []
    },
    {
      "cell_type": "code",
      "source": [
        "matriz2[cond1] = abs(i[cond1] * j[cond1] - 2)\n",
        "matriz2[cond2] = i[cond2] + j[cond2]\n",
        "matriz2[cond3] = (i[cond3] + j[cond3]) ** 2"
      ],
      "metadata": {
        "id": "XQU1z5JouBaP"
      },
      "execution_count": 70,
      "outputs": []
    },
    {
      "cell_type": "code",
      "source": [
        "print(matriz2)"
      ],
      "metadata": {
        "colab": {
          "base_uri": "https://localhost:8080/"
        },
        "id": "gVUaUvgRuyq_",
        "outputId": "7664a287-5f7f-457c-8342-461ab0caa207"
      },
      "execution_count": 71,
      "outputs": [
        {
          "output_type": "stream",
          "name": "stdout",
          "text": [
            "[[  2.   2.   2.   2.   2.   2.   2.   2.   2.   2.]\n",
            " [  1.   4.   9.  16.  25.  36.  49.  64.  81. 100.]\n",
            " [  2.   0.   2.   4.   6.   8.  10.  12.  14.  16.]\n",
            " [  9.  16.  25.  36.  49.  64.  81. 100. 121. 144.]\n",
            " [  2.   2.   6.  10.  14.  18.  22.  26.  30.  34.]\n",
            " [  5.   6.   7.   8.   9.  10.  11.  12.  13.  14.]\n",
            " [  2.   4.  10.  16.  22.  28.  34.  40.  46.  52.]\n",
            " [ 49.  64.  81. 100. 121. 144. 169. 196. 225. 256.]\n",
            " [  2.   6.  14.  22.  30.  38.  46.  54.  62.  70.]\n",
            " [ 81. 100. 121. 144. 169. 196. 225. 256. 289. 324.]]\n"
          ]
        }
      ]
    },
    {
      "cell_type": "markdown",
      "metadata": {
        "id": "sribt5MsxX2T"
      },
      "source": [
        "### Ejercicio 3\n",
        "\n",
        "Crea una función que genere una matriz de `0` y `1` simulando un tablero de ajedrez. La función debe cumplir con los siguientes requisitos:\n",
        "\n",
        "- Debe preguntar al usuario cuál es la dimensión de la matriz. **(0.25 puntos)**\n",
        "- La matriz que debe generar la función tiene que ser cuadrada.\n",
        "- Debe mostrar el resultado visualmente en pantalla com si fuera una imagen en 2D. **(0.50 puntos)**\n",
        "\n",
        "Verifica que la función se ejecuta correctamente probando con una matriz de `8x8`. **(0.25 puntos)**\n",
        "\n",
        "**Nota**. Para visualizar la matriz tienes que buscar qué función de `Matplolib` te permite visualizar la matriz como una imagen en 2D.\n",
        "\n",
        "**(Total 1 punto)** $\\color{Orange}{\\text{EG}}$"
      ]
    },
    {
      "cell_type": "code",
      "source": [
        "import numpy as np\n",
        "import matplotlib.pyplot as plt\n",
        "\n",
        "def generar_tablero_ajedrez():\n",
        "    # Preguntar al usuario la dimensión de la matriz\n",
        "    dimension = int(input(\"Introduce la dimensión de la matriz (debe ser un número entero): \"))\n",
        "\n",
        "    # Generar la matriz de ajedrez\n",
        "    tablero = np.zeros((dimension, dimension), dtype=int)\n",
        "    tablero[1::2, ::2] = 1\n",
        "    tablero[::2, 1::2] = 1\n",
        "\n",
        "    # Mostrar el resultado visualmente en pantalla como una imagen en 2D\n",
        "    plt.imshow(tablero, cmap='gray')\n",
        "    plt.title(f'Tablero de Ajedrez de {dimension}x{dimension}')\n",
        "    plt.show()\n",
        "\n",
        "# Verificar que la función se ejecuta correctamente probando con una matriz de 8x8\n",
        "generar_tablero_ajedrez()"
      ],
      "metadata": {
        "id": "V0y26lp3eR0L"
      },
      "execution_count": null,
      "outputs": []
    },
    {
      "cell_type": "markdown",
      "metadata": {
        "id": "wvyyVxp6xX2U"
      },
      "source": [
        "### Ejercicio 4\n",
        "\n",
        "Imagina que tienes tres cuerpos en un plano bidimensional.  Las fuerzas que actuan sobre cada cuerpo se pueden representar en una matriz.  Cada fila de la matriz representa un cuerpo y cada columna representa una fuerza en una dirección concreta ( per ejemplo, fuerza en la dirección X y fuerza en la dirección Y) en Newtons.\n",
        "\n",
        "Las fuerzas que actuan sobre los cuerpos son las seguientes:\n",
        "- Cuerpo A: Fuerza X = 10 y Fuerza Y = 5.\n",
        "- Cuerpo B: Fuerza X = 4 y Fuerza Y = 12.\n",
        "- Cuerpo C: Fuerza X = -6 y Fuerza Y = -8.\n",
        "\n",
        "Responde a las seguientes preguntas:\n",
        "- a) Crea la matriz de fuerzas y muéstrala por pantalla. **(0.25 puntos)**\n",
        "- b) Calcula la fuerza resultante sobre cada cuerpo. La fuerza resultante se puede calcular como la suma vectorial de las fuerzas.  Para hacerlo, utiliza una función de `numpy`. **(0.50 puntos)**\n",
        "- c) Calcula la aceleración de cada cuerpo mediante la segunda ley de Newton, `F=m*a`, considerando que la masa de cada cuerpo es de 5 kg. **(0.25 puntos)**\n",
        "\n",
        "**Nota**.  Los resultados deben presentarse con sólo dos decimales.\n",
        "\n",
        "**(Total 1 punto)** $\\color{Orange}{\\text{EG}}$"
      ]
    },
    {
      "cell_type": "code",
      "source": [
        "import numpy as np"
      ],
      "metadata": {
        "id": "CYlg3LPkLnOW"
      },
      "execution_count": null,
      "outputs": []
    },
    {
      "cell_type": "code",
      "source": [
        "# a)Crear la matriz de fuerzas y mostrarla por pantalla ."
      ],
      "metadata": {
        "id": "aUNdys1F3axJ"
      },
      "execution_count": null,
      "outputs": []
    },
    {
      "cell_type": "code",
      "execution_count": null,
      "metadata": {
        "id": "VLR0FM8lxX2U"
      },
      "outputs": [],
      "source": [
        "#Crear la matriz de fuerzas.\n",
        "fuerzas =np.array([[10,5],[4,12],[-6,-8]])"
      ]
    },
    {
      "cell_type": "code",
      "source": [
        "# Mostrar la matriz de fuerzas."
      ],
      "metadata": {
        "id": "hBRysOpwLfIV"
      },
      "execution_count": null,
      "outputs": []
    },
    {
      "cell_type": "code",
      "source": [
        "print(\"Matriz de Fuerzas:\")\n",
        "print(fuerzas)"
      ],
      "metadata": {
        "colab": {
          "base_uri": "https://localhost:8080/"
        },
        "id": "UH5hydq7LfSt",
        "outputId": "262a9422-fd27-4b0d-919b-bca6dafaebac"
      },
      "execution_count": null,
      "outputs": [
        {
          "output_type": "stream",
          "name": "stdout",
          "text": [
            "Matriz de Fuerzas:\n",
            "[[10  5]\n",
            " [ 4 12]\n",
            " [-6 -8]]\n"
          ]
        }
      ]
    },
    {
      "cell_type": "markdown",
      "metadata": {
        "id": "vkHgfnwtxX2U"
      },
      "source": [
        "## Pandas y Matplotlib - Ejercicios"
      ]
    },
    {
      "cell_type": "markdown",
      "metadata": {
        "id": "Gu-plj9axX2U"
      },
      "source": [
        "### Ejercicio 5\n",
        "\n",
        "Pandas y matplotlib son dos librerias que, conjuntamente, nos permiten realizar diferentes tipos de análisis de datos de forma muy práctica y visual.\n",
        "\n",
        "El siguiente conjunto de datos, `sales.csv`, contiene información de ventas de diferentes productos.  Este conjunto de datos contiene la siguientes columnas:\n",
        "- **Date**: La fecha de la venta.\n",
        "- **Product**: El nombre del producto.\n",
        "- **Region**: La región donde se vendió el producto.\n",
        "- **Quantity**: El número de unidades vendidas.\n",
        "- **Price**: El precio de una unidad del producto.\n",
        "\n",
        "**Nota**: Este conjunto de datos se encuentra en la carpeta `data` y para leer el archivo deberás tener cargada la carpeta de la PAC.\n",
        "\n",
        "- a) Lee el archivo `sales.csv` y responde a las seguientes preguntas. $\\color{green}{\\text{NM}}$\n",
        "    - a.1) Muestra las 8 primeras filas y las 5 últimas filas. **(0.25 puntos)**\n",
        "    - a.2) Indica cuántas filas y columnas tiene. **(0.25 puntos)**\n",
        "    - a.3) Muestra qué tipo de variable es cada columna. Convierte la variable `Date` a formato datetime. **(0.25 puntos)**\n",
        "    - a.4) Muestra las siguientes estadísticas (`Media`, `desviación estándar`, `mínimo`, `máximo`, y los `percentiles 25, 50 y 75%`) de las variables numéricas. **(0.50 puntos)**\n",
        "    - Calcula las ventas totales, `Quantity*Price`, y guarda el resultado en una nueva columna llamada `Total_Sales`. **(0.25 puntos)**\n",
        "- b) Calcula las ventas totales por producto y visualiza el resultado mediante un gráfico de barras. Requisitos del gráfico de barras: **(1 punto)** $\\color{green}{\\text{NM}}$\n",
        "    - Cada barra debe tener un color diferente.\n",
        "    - Se debe añadir el siguiente título en el gráfico: `Ventas Totales por producto` y en los ejes:\n",
        "        - X: `Producto`\n",
        "        - Y: `Ventas Totales`\n",
        "\n",
        "\n",
        "- c) Calcula las ventas totales agrupadas por meses y visualiza la evolución temporal mediante un gráfico de línea. Requisitos del gráfico: **(1 punto)** $\\color{red}{\\text{EI}}$\n",
        "    - Cada punto debe estar unido mediante una línea de color verde.\n",
        "    - Se debe añadir el siguiente título en el gráfico `Ventas Totales a lo largo del tiempo` y en los ejes:\n",
        "        - X: `Mes`\n",
        "        - Y: `Ventas Totales`\n",
        "- d) Calcula la distribución de ventas por diferentes meses y visualiza el resultado con un gráfico circular. **(1 punto)** $\\color{green}{\\text{NM}}$\n",
        "\n",
        "**( Total 4.5 puntos )**  "
      ]
    },
    {
      "cell_type": "code",
      "execution_count": 6,
      "metadata": {
        "id": "4OvA_3hzxX2V"
      },
      "outputs": [],
      "source": [
        "import pandas as pd"
      ]
    },
    {
      "cell_type": "code",
      "source": [
        "#Leemos el archivo csv."
      ],
      "metadata": {
        "id": "QaV3RnwJU5fc"
      },
      "execution_count": 7,
      "outputs": []
    },
    {
      "cell_type": "code",
      "source": [
        "df = pd.read_csv('data/sales.csv')"
      ],
      "metadata": {
        "id": "5_TRLP1FU5it"
      },
      "execution_count": 8,
      "outputs": []
    },
    {
      "cell_type": "code",
      "source": [
        "#A.1) Mostramos las 8 primeras filas y las 5 ultimas columnas del dataset."
      ],
      "metadata": {
        "id": "1KYASWqNU5lw"
      },
      "execution_count": 9,
      "outputs": []
    },
    {
      "cell_type": "code",
      "source": [
        "print(\"Las 8 primeras filas:\")\n",
        "print(df.head(8))"
      ],
      "metadata": {
        "colab": {
          "base_uri": "https://localhost:8080/"
        },
        "id": "UJ_AYznJU5pD",
        "outputId": "970312da-86c5-4062-fde7-92724a9e3089"
      },
      "execution_count": 13,
      "outputs": [
        {
          "output_type": "stream",
          "name": "stdout",
          "text": [
            "Las 8 primeras filas:\n",
            "         Date Product Region  Quantity  Price\n",
            "0  2023-01-01       D   East         3    155\n",
            "1  2023-01-01       E   East        24     96\n",
            "2  2023-01-01       C   West         6    172\n",
            "3  2023-01-02       E  North         5    190\n",
            "4  2023-01-02       E   West         5    168\n",
            "5  2023-01-03       B   West        22    199\n",
            "6  2023-01-03       C   East        15    167\n",
            "7  2023-01-04       C  South        23     70\n"
          ]
        }
      ]
    },
    {
      "cell_type": "code",
      "source": [
        "print(\"Las 5 últimas filas:\")\n",
        "print(df.tail(5))"
      ],
      "metadata": {
        "colab": {
          "base_uri": "https://localhost:8080/"
        },
        "id": "VKxI4tCmU5r2",
        "outputId": "92841c9c-822b-4984-e96c-63186f58eea7"
      },
      "execution_count": 14,
      "outputs": [
        {
          "output_type": "stream",
          "name": "stdout",
          "text": [
            "Las 5 últimas filas:\n",
            "           Date Product Region  Quantity  Price\n",
            "845  2023-12-29       E  North         7    100\n",
            "846  2023-12-29       D  South        22     87\n",
            "847  2023-12-30       C  North         1     69\n",
            "848  2023-12-30       A  North        12    181\n",
            "849  2023-12-31       C  South        24    104\n"
          ]
        }
      ]
    },
    {
      "cell_type": "code",
      "source": [
        "#A.2)Indicar el número de filas y columnas que tiene"
      ],
      "metadata": {
        "id": "Q1D5tH-2U5ur"
      },
      "execution_count": 12,
      "outputs": []
    },
    {
      "cell_type": "code",
      "source": [
        "print(\"Número de filas y columnas:\")\n",
        "print(df.shape)"
      ],
      "metadata": {
        "colab": {
          "base_uri": "https://localhost:8080/"
        },
        "id": "6pHYgquHU5xS",
        "outputId": "c1d50775-ed6d-4bda-9f16-3054c3d6016a"
      },
      "execution_count": 16,
      "outputs": [
        {
          "output_type": "stream",
          "name": "stdout",
          "text": [
            "Número de filas y columnas:\n",
            "(850, 5)\n"
          ]
        }
      ]
    },
    {
      "cell_type": "code",
      "source": [
        "#A.3)Mostrar qué tipo de variable es cada columna y convertir la variable Data a formato datetime."
      ],
      "metadata": {
        "id": "jW8W1_KbWT6s"
      },
      "execution_count": 17,
      "outputs": []
    },
    {
      "cell_type": "code",
      "source": [
        "print(\"Tipo de Variables antes de la conversion:\")\n",
        "print(df.dtypes)"
      ],
      "metadata": {
        "colab": {
          "base_uri": "https://localhost:8080/"
        },
        "id": "bPvYl0ROWUDc",
        "outputId": "4eb1e52b-4a72-4fb6-e8d1-9c4a064f4837"
      },
      "execution_count": 24,
      "outputs": [
        {
          "output_type": "stream",
          "name": "stdout",
          "text": [
            "Tipo de Variables antes de la conversion:\n",
            "Date        datetime64[ns]\n",
            "Product             object\n",
            "Region              object\n",
            "Quantity             int64\n",
            "Price                int64\n",
            "dtype: object\n"
          ]
        }
      ]
    },
    {
      "cell_type": "code",
      "source": [
        "#Realizamos la conversión."
      ],
      "metadata": {
        "id": "S1BSeOIlWUKn"
      },
      "execution_count": 19,
      "outputs": []
    },
    {
      "cell_type": "code",
      "source": [
        "df['Date']= pd.to_datetime(df['Date'])\n",
        "print(\"Tipos de datos después de la conversion:\")\n",
        "print(df.dtypes)"
      ],
      "metadata": {
        "colab": {
          "base_uri": "https://localhost:8080/"
        },
        "id": "K74YutPJU50S",
        "outputId": "37bbd944-1ddd-46f9-c242-5e0de74f467c"
      },
      "execution_count": 22,
      "outputs": [
        {
          "output_type": "stream",
          "name": "stdout",
          "text": [
            "Tipos de datos después de la conversion:\n",
            "Date        datetime64[ns]\n",
            "Product             object\n",
            "Region              object\n",
            "Quantity             int64\n",
            "Price                int64\n",
            "dtype: object\n"
          ]
        }
      ]
    },
    {
      "cell_type": "code",
      "source": [
        "#A.4) Mostrar la estadística de las variables numéricas"
      ],
      "metadata": {
        "id": "12uKVomwU522"
      },
      "execution_count": null,
      "outputs": []
    },
    {
      "cell_type": "code",
      "source": [
        "print(\"Estadística de las variables numéricas:\")\n",
        "print(df.describe(percentiles=[.25, .5, .75]))\n"
      ],
      "metadata": {
        "colab": {
          "base_uri": "https://localhost:8080/"
        },
        "id": "yMAH4sRSX_dI",
        "outputId": "e29eefb9-9de8-492a-a005-b344e038581a"
      },
      "execution_count": 26,
      "outputs": [
        {
          "output_type": "stream",
          "name": "stdout",
          "text": [
            "Estadística de las variables numéricas:\n",
            "                                Date    Quantity       Price\n",
            "count                            850  850.000000  850.000000\n",
            "mean   2023-07-01 12:01:41.647058944   15.312941  127.815294\n",
            "min              2023-01-01 00:00:00    1.000000   50.000000\n",
            "25%              2023-04-01 06:00:00    8.000000   87.000000\n",
            "50%              2023-07-01 12:00:00   15.000000  128.500000\n",
            "75%              2023-09-30 18:00:00   23.000000  169.000000\n",
            "max              2023-12-31 00:00:00   30.000000  200.000000\n",
            "std                              NaN    8.673149   45.529007\n"
          ]
        }
      ]
    },
    {
      "cell_type": "code",
      "source": [
        "#A.5) Calcular las ventas totales y guardarlas en una nueva columna."
      ],
      "metadata": {
        "id": "pl9sNITGX_lr"
      },
      "execution_count": 27,
      "outputs": []
    },
    {
      "cell_type": "code",
      "source": [
        "df['Total_Sales'] = df['Quantity']*df['Price']\n",
        "print(\"Nuevo Dataframe con la columna Total_Sales\")\n",
        "print(df.head())"
      ],
      "metadata": {
        "colab": {
          "base_uri": "https://localhost:8080/"
        },
        "id": "S7FmeTniY7Ns",
        "outputId": "92036903-e363-430c-b02a-6d17414abb7d"
      },
      "execution_count": 28,
      "outputs": [
        {
          "output_type": "stream",
          "name": "stdout",
          "text": [
            "Nuevo Dataframe con la columna Total_Sales\n",
            "        Date Product Region  Quantity  Price  Total_Sales\n",
            "0 2023-01-01       D   East         3    155          465\n",
            "1 2023-01-01       E   East        24     96         2304\n",
            "2 2023-01-01       C   West         6    172         1032\n",
            "3 2023-01-02       E  North         5    190          950\n",
            "4 2023-01-02       E   West         5    168          840\n"
          ]
        }
      ]
    },
    {
      "cell_type": "code",
      "source": [
        "# B) Calcular las ventas totales por producto y visualizar los resultados mediante un grafico de barras."
      ],
      "metadata": {
        "id": "oVOKqJSGY7Vr"
      },
      "execution_count": 28,
      "outputs": []
    },
    {
      "cell_type": "code",
      "source": [
        "import matplotlib.pyplot as plt\n",
        "\n",
        "# Calcular las ventas totales por producto\n",
        "total_sales_by_product = df.groupby('Product')['Total_Sales'].sum()\n",
        "\n",
        "# Crear el gráfico de barras\n",
        "total_sales_by_product.plot(kind='bar', color=['blue', 'green', 'red', 'cyan', 'magenta', 'yellow', 'black', 'orange'])\n",
        "plt.title('Ventas Totales por producto')\n",
        "plt.xlabel('Producto')\n",
        "plt.ylabel('Ventas Totales')\n",
        "plt.show()"
      ],
      "metadata": {
        "colab": {
          "base_uri": "https://localhost:8080/",
          "height": 468
        },
        "id": "Zi45F9YGc8iG",
        "outputId": "373744f7-0a10-4cce-e62a-af7eaf6370d9"
      },
      "execution_count": 37,
      "outputs": [
        {
          "output_type": "display_data",
          "data": {
            "text/plain": [
              "<Figure size 640x480 with 1 Axes>"
            ],
            "image/png": "[encoded data removed]"
          },
          "metadata": {}
        }
      ]
    },
    {
      "cell_type": "code",
      "source": [
        "#C) Calcular las ventas totales agrupadas por meses y visualizar la evolucion temporal mediante un grafico de líneas."
      ],
      "metadata": {
        "id": "RW2ixxwdaQMk"
      },
      "execution_count": null,
      "outputs": []
    },
    {
      "cell_type": "code",
      "source": [
        "# Agrupar por mes y calcular las ventas totales\n",
        "df['Month'] = df['Date'].dt.to_period('M')\n",
        "total_sales_by_month = df.groupby('Month')['Total_Sales'].sum()\n",
        "\n"
      ],
      "metadata": {
        "id": "2BZX5uk_aQPK"
      },
      "execution_count": 35,
      "outputs": []
    },
    {
      "cell_type": "code",
      "source": [
        "# Crear el gráfico de línea\n",
        "total_sales_by_month.plot(kind='line', color='green', marker='o')\n",
        "plt.title('Ventas Totales a lo largo del tiempo')\n",
        "plt.xlabel('Mes')\n",
        "plt.ylabel('Ventas Totales')\n",
        "plt.show()"
      ],
      "metadata": {
        "colab": {
          "base_uri": "https://localhost:8080/",
          "height": 488
        },
        "id": "gwFC6IM4X_uE",
        "outputId": "c31f7ff9-b22d-400b-c15a-76f664000e07"
      },
      "execution_count": 36,
      "outputs": [
        {
          "output_type": "display_data",
          "data": {
            "text/plain": [
              "<Figure size 640x480 with 1 Axes>"
            ],
            "image/png": "[encoded data removed]"
          },
          "metadata": {}
        }
      ]
    },
    {
      "cell_type": "code",
      "source": [
        "# Calculamos la distribución de ventas por diferentes meses\n",
        "sales_distribution_by_month = df.groupby('Month')['Total_Sales'].sum()\n",
        "\n",
        "# Creamos el gráfico circular\n",
        "sales_distribution_by_month.plot(kind='pie', autopct='%1.1f%%', startangle=90, colormap='tab20')\n",
        "plt.title('Distribución de Ventas por Mes')\n",
        "plt.ylabel('')  # Para ocultar la etiqueta del eje Y\n",
        "plt.show()"
      ],
      "metadata": {
        "colab": {
          "base_uri": "https://localhost:8080/",
          "height": 429
        },
        "id": "UMAP9ZJDd0RK",
        "outputId": "5e7c0f88-bfe4-438c-f61f-fbd4e3b865b8"
      },
      "execution_count": 38,
      "outputs": [
        {
          "output_type": "display_data",
          "data": {
            "text/plain": [
              "<Figure size 640x480 with 1 Axes>"
            ],
            "image/png": "[encoded data removed]"
          },
          "metadata": {}
        }
      ]
    },
    {
      "cell_type": "markdown",
      "metadata": {
        "id": "wZflivXXxX2V"
      },
      "source": [
        "## Scipy - Ejercicio"
      ]
    },
    {
      "cell_type": "markdown",
      "metadata": {
        "id": "UlkX8Z6NxX2V"
      },
      "source": [
        "### Ejercicio 6\n",
        "\n",
        "En el siguiente ejercicio utilizaremos la librería `SciPy` para verificar si un conjunto de datos sigue una distribución normal.\n",
        "   - a) Crea un conjunto de datos aleatorios con 50 valores que sigan una distribución normal ( media de 100 y desviación estándar de 15). **(0.50 puntos)** $\\color{green}{\\text{NM}}$\n",
        "   - b) Realiza un test de normalidad utilizando la función [shapiro](https://docs.scipy.org/doc/scipy/reference/generated/scipy.stats.shapiro.html) para determinar si el conjunto de datos sigue una distribución normal. Muestra por pantalla el p-value y razona el resultado obtenido. **(1 punto)** $\\color{orange}{\\text{EG}}$\n",
        "   - c) Crea un histograma del conjunto de datos para visualizar su distribución. **(0.50 puntos)** $\\color{green}{\\text{NM}}$  \n",
        "   - d) Utiliza una función de la librería `seaborn` per visualizar la función de densidad de probabilidad correspondiente a la distribución de los datos creados. **Opcional**. $\\color{red}{\\text{EI}}$  \n",
        "   \n",
        "\n",
        "\n",
        "**(Total 2 puntos)**"
      ]
    },
    {
      "cell_type": "code",
      "execution_count": null,
      "metadata": {
        "id": "7Qjn23CAxX2V"
      },
      "outputs": [],
      "source": [
        "# A) Crear un conjunto de datos aleatorios con media 100 y desviacion standard 15"
      ]
    },
    {
      "cell_type": "code",
      "source": [
        "data = np.random.normal(loc=100, scale=15, size=50)\n",
        "print(\"Conjunto de datos aleatorios:\")\n",
        "print(data)"
      ],
      "metadata": {
        "colab": {
          "base_uri": "https://localhost:8080/"
        },
        "id": "3A4VGO8weptv",
        "outputId": "b0ccc984-12fd-4484-f57e-b58b4f3a3fff"
      },
      "execution_count": 40,
      "outputs": [
        {
          "output_type": "stream",
          "name": "stdout",
          "text": [
            "Conjunto de datos aleatorios:\n",
            "[105.75555646 107.94139705 114.95523812 106.33165511 102.9694992\n",
            "  91.31380387  86.18953546  91.85846241 126.702861   100.23323528\n",
            "  92.99402162  92.44772145  97.89091641 109.4843187  119.10547761\n",
            " 110.91280057  98.10590229  96.45026509  89.24706175  91.23388515\n",
            " 107.68740977  91.80875218  95.48803181  98.89665198  86.10057773\n",
            " 119.94315394 102.72998077 106.8479021  107.68436505 101.26470691\n",
            " 108.80448421  91.10020647  99.18835568  85.53208895  69.76016516\n",
            " 110.95706423 112.88543207 109.91459736  85.71159637 113.62276424\n",
            " 119.07687159 100.73194213  92.05712903  80.85807817 127.56822493\n",
            "  78.17607373 123.03204583 111.42944415  97.13943517 112.19051147]\n"
          ]
        }
      ]
    },
    {
      "cell_type": "code",
      "source": [
        "# B) Realizar un test de normalidad utilzando la funcion shapiro."
      ],
      "metadata": {
        "id": "e0FNDuXoep3S"
      },
      "execution_count": 41,
      "outputs": []
    },
    {
      "cell_type": "code",
      "source": [
        "from scipy.stats import shapiro\n",
        "\n",
        "# Realizar el test de normalidad de Shapiro-Wilk\n",
        "stat, p_value = shapiro(data)\n",
        "print(\"Shapiro-Wilk Test:\")\n",
        "print(f\"Statistic: {stat}, p-value: {p_value}\")\n",
        "\n",
        "# Razonamos el resultado\n",
        "if p_value > 0.05:\n",
        "    print(\"El conjunto de datos sigue una distribución normal (no se rechaza la hipótesis nula).\")\n",
        "else:\n",
        "    print(\"El conjunto de datos no sigue una distribución normal (se rechaza la hipótesis nula).\")"
      ],
      "metadata": {
        "colab": {
          "base_uri": "https://localhost:8080/"
        },
        "id": "dDzkwhRdeqBL",
        "outputId": "14e3a0d0-66b4-493c-8c2a-f72e0a916b66"
      },
      "execution_count": 42,
      "outputs": [
        {
          "output_type": "stream",
          "name": "stdout",
          "text": [
            "Shapiro-Wilk Test:\n",
            "Statistic: 0.9890973834564548, p-value: 0.9228570271434177\n",
            "El conjunto de datos sigue una distribución normal (no se rechaza la hipótesis nula).\n"
          ]
        }
      ]
    },
    {
      "cell_type": "code",
      "source": [
        "#C)Crear un histograma del conjunto de datos."
      ],
      "metadata": {
        "id": "JiXABTnsgFps"
      },
      "execution_count": null,
      "outputs": []
    },
    {
      "cell_type": "code",
      "source": [
        "import matplotlib.pyplot as plt\n",
        "\n",
        "# Crear el histograma\n",
        "plt.hist(data, bins=10, edgecolor='black')\n",
        "plt.title('Histograma del Conjunto de Datos')\n",
        "plt.xlabel('Valor')\n",
        "plt.ylabel('Frecuencia')\n",
        "plt.show()"
      ],
      "metadata": {
        "colab": {
          "base_uri": "https://localhost:8080/",
          "height": 472
        },
        "id": "n3ljobTcgF-a",
        "outputId": "17cf2431-5ced-44f0-f5aa-eaebdbd90b52"
      },
      "execution_count": 43,
      "outputs": [
        {
          "output_type": "display_data",
          "data": {
            "text/plain": [
              "<Figure size 640x480 with 1 Axes>"
            ],
            "image/png": "[encoded data removed]"
          },
          "metadata": {}
        }
      ]
    },
    {
      "cell_type": "code",
      "source": [
        "#D)Visualizacion de la funcion de densidad de probabilidad utilizando seaborn."
      ],
      "metadata": {
        "id": "wNf7FyJJgGYc"
      },
      "execution_count": null,
      "outputs": []
    },
    {
      "cell_type": "code",
      "source": [
        "import seaborn as sns\n",
        "\n",
        "# Visualizar la función de densidad de probabilidad\n",
        "sns.kdeplot(data, shade=True)\n",
        "plt.title('Función de Densidad de Probabilidad')\n",
        "plt.xlabel('Valor')\n",
        "plt.ylabel('Densidad')\n",
        "plt.show()"
      ],
      "metadata": {
        "colab": {
          "base_uri": "https://localhost:8080/",
          "height": 574
        },
        "id": "fkMRYx8Ceqef",
        "outputId": "abb5055d-1170-4f51-c1b2-f1333d8bcdc5"
      },
      "execution_count": 44,
      "outputs": [
        {
          "output_type": "stream",
          "name": "stderr",
          "text": [
            "<ipython-input-44-101b1634d8df>:4: FutureWarning: \n",
            "\n",
            "`shade` is now deprecated in favor of `fill`; setting `fill=True`.\n",
            "This will become an error in seaborn v0.14.0; please update your code.\n",
            "\n",
            "  sns.kdeplot(data, shade=True)\n"
          ]
        },
        {
          "output_type": "display_data",
          "data": {
            "text/plain": [
              "<Figure size 640x480 with 1 Axes>"
            ],
            "image/png": "[encoded data removed]"
          },
          "metadata": {}
        }
      ]
    }
  ],
  "metadata": {
    "colab": {
      "provenance": []
    },
    "kernelspec": {
      "display_name": "Python 3",
      "language": "python",
      "name": "python3"
    },
    "language_info": {
      "codemirror_mode": {
        "name": "ipython",
        "version": 3
      },
      "file_extension": ".py",
      "mimetype": "text/x-python",
      "name": "python",
      "nbconvert_exporter": "python",
      "pygments_lexer": "ipython3",
      "version": "3.7.6"
    }
  },
  "nbformat": 4,
  "nbformat_minor": 0
}